{
 "cells": [
  {
   "cell_type": "code",
   "execution_count": null,
   "id": "7371d4bd-9c9e-4050-8d3e-02ae6b48cf4d",
   "metadata": {},
   "outputs": [],
   "source": [
    "import pandas as pd\n",
    "import numpy as np\n",
    "import matplotlib.pyplot as plt\n",
    "import seaborn as sns"
   ]
  },
  {
   "cell_type": "markdown",
   "id": "815d0434-3e3d-4823-aa90-d2b244984fa0",
   "metadata": {},
   "source": [
    "# Load Data"
   ]
  },
  {
   "cell_type": "code",
   "execution_count": null,
   "id": "df1d1858-6121-46d9-b3d8-1cb8456328a4",
   "metadata": {},
   "outputs": [],
   "source": [
    "df = pd.read_csv('Social_Network_Ads.csv')\n",
    "df"
   ]
  },
  {
   "cell_type": "markdown",
   "id": "7e343cd7-ad95-4632-900b-bb36d3708898",
   "metadata": {},
   "source": [
    "# Data preprocessing"
   ]
  },
  {
   "cell_type": "markdown",
   "id": "d7456ad0-0c0c-426e-b92b-e76a1a18d0a9",
   "metadata": {},
   "source": [
    "#### Missing values"
   ]
  },
  {
   "cell_type": "code",
   "execution_count": null,
   "id": "745408d5-86fd-47cc-bf9c-acdc1015f5ec",
   "metadata": {},
   "outputs": [],
   "source": [
    "df.isna().sum()"
   ]
  },
  {
   "cell_type": "markdown",
   "id": "77c16def-8b4e-4c93-94e5-483a13d9a36a",
   "metadata": {},
   "source": [
    "#### Drop nan important columns"
   ]
  },
  {
   "cell_type": "code",
   "execution_count": null,
   "id": "2b1adb81-beba-473c-a144-99bc23dec916",
   "metadata": {},
   "outputs": [],
   "source": [
    "df = df.drop('User ID', axis =1)"
   ]
  },
  {
   "cell_type": "markdown",
   "id": "ebcc28ce-2aa9-4e7e-b37e-7c8f620ab42f",
   "metadata": {},
   "source": [
    "#### Encoding Data: converting categorical data into numeric representation"
   ]
  },
  {
   "cell_type": "code",
   "execution_count": null,
   "id": "a1db0c73-34f3-40fc-8076-da52d86df7a0",
   "metadata": {},
   "outputs": [],
   "source": [
    "from sklearn.preprocessing import LabelEncoder"
   ]
  },
  {
   "cell_type": "code",
   "execution_count": null,
   "id": "edd41a23-cb2a-4334-9489-c184f2453317",
   "metadata": {},
   "outputs": [],
   "source": [
    "le = LabelEncoder()\n",
    "df['Gender'] = le.fit_transform(df['Gender'])"
   ]
  },
  {
   "cell_type": "code",
   "execution_count": null,
   "id": "0163883e-62b2-48dc-a39a-bee5b53116ce",
   "metadata": {},
   "outputs": [],
   "source": [
    "df"
   ]
  },
  {
   "cell_type": "markdown",
   "id": "60b28599-9b60-49de-b426-7847780b33ad",
   "metadata": {},
   "source": [
    "#### Scaling"
   ]
  },
  {
   "cell_type": "code",
   "execution_count": null,
   "id": "d6b9c880-dd84-4285-ae1b-f6b8e8db8971",
   "metadata": {},
   "outputs": [],
   "source": [
    "from sklearn.preprocessing import StandardScaler"
   ]
  },
  {
   "cell_type": "markdown",
   "id": "9b8ec611-63b2-4df4-b44e-2eb72cbc933b",
   "metadata": {},
   "source": [
    "# EDA"
   ]
  },
  {
   "cell_type": "markdown",
   "id": "1aea878b-06f3-44a0-a7de-e95551d2d4d0",
   "metadata": {},
   "source": [
    "#### Correlation Visualization "
   ]
  },
  {
   "cell_type": "code",
   "execution_count": null,
   "id": "60ef6e8b-9a7b-4823-bbad-8e455e75fb02",
   "metadata": {},
   "outputs": [],
   "source": [
    "sns.pairplot(df, hue='Purchased')"
   ]
  },
  {
   "cell_type": "markdown",
   "id": "c714a121-96ba-4b94-ada1-a5feb21aa502",
   "metadata": {},
   "source": [
    "# Create Model"
   ]
  },
  {
   "cell_type": "code",
   "execution_count": null,
   "id": "664aba23-ee2a-473f-ba86-7d546f0d25a4",
   "metadata": {},
   "outputs": [],
   "source": [
    "x = df.drop('Purchased', axis=1)\n",
    "y = df['Purchased']"
   ]
  },
  {
   "cell_type": "code",
   "execution_count": null,
   "id": "36b2aec3-9b54-4417-a865-bf3ff6a92f82",
   "metadata": {},
   "outputs": [],
   "source": [
    "scl = StandardScaler()\n",
    "x = scl.fit_transform(x)"
   ]
  },
  {
   "cell_type": "code",
   "execution_count": null,
   "id": "2ea66fa5-1b96-4397-a736-fe52991e047e",
   "metadata": {},
   "outputs": [],
   "source": [
    "x"
   ]
  },
  {
   "cell_type": "code",
   "execution_count": null,
   "id": "ae10b39e-fd06-4971-b807-ea2ec371362a",
   "metadata": {},
   "outputs": [],
   "source": [
    "from sklearn.model_selection import train_test_split\n",
    "x_train, x_test, y_train, y_test = train_test_split(x, y, test_size=0.2, shuffle=True)"
   ]
  },
  {
   "cell_type": "code",
   "execution_count": null,
   "id": "47dc2b48-39e3-4804-8cc7-86ee0007879a",
   "metadata": {},
   "outputs": [],
   "source": [
    "from sklearn.svm import SVC\n",
    "from sklearn.metrics import accuracy_score\n",
    "clf = SVC()\n",
    "clf.fit(x_train,y_train)\n",
    "train_preds = clf.predict(x_train)\n",
    "test_preds = clf.predict(x_test)\n",
    "print('train acc', accuracy_score(y_train, train_preds))\n",
    "print('test acc', accuracy_score(y_test, test_preds))"
   ]
  },
  {
   "cell_type": "markdown",
   "id": "5d5f927a-094b-457a-a8ac-6a0528d3b837",
   "metadata": {},
   "source": [
    "### Kernel"
   ]
  },
  {
   "cell_type": "code",
   "execution_count": null,
   "id": "1aeb4157-4641-4c07-b2d2-90e389f6c988",
   "metadata": {},
   "outputs": [],
   "source": [
    "for k in ['linear','poly','rbf']:\n",
    "    clf = SVC(kernel=k)\n",
    "    clf.fit(x_train,y_train)\n",
    "    train_preds = clf.predict(x_train)\n",
    "    test_preds = clf.predict(x_test)\n",
    "    print('kernal is:',k)\n",
    "    print('train acc', accuracy_score(y_train, train_preds))\n",
    "    print('test acc', accuracy_score(y_test, test_preds))\n",
    "    print('----------------------------------------')"
   ]
  },
  {
   "cell_type": "markdown",
   "id": "ceff28e1-4801-43d0-8070-a328bd1b86fc",
   "metadata": {},
   "source": [
    "### poly"
   ]
  },
  {
   "cell_type": "code",
   "execution_count": null,
   "id": "79495ac9-b3fa-41a7-bf6a-1493c6fe2e5d",
   "metadata": {},
   "outputs": [],
   "source": [
    "for d in range(1,20):\n",
    "    clf = SVC(kernel='poly',degree=d)\n",
    "    clf.fit(x_train,y_train)\n",
    "    train_preds = clf.predict(x_train)\n",
    "    test_preds = clf.predict(x_test)\n",
    "    print('degree is:',d)\n",
    "    print('train acc', accuracy_score(y_train, train_preds))\n",
    "    print('test acc', accuracy_score(y_test, test_preds))\n",
    "    print('----------------------------------------')"
   ]
  },
  {
   "cell_type": "markdown",
   "id": "1e1ed750-fdd8-483d-ae21-5fca21b228be",
   "metadata": {},
   "source": [
    "# Building the visualization code"
   ]
  },
  {
   "cell_type": "code",
   "execution_count": null,
   "id": "b5733da0-43ae-49b0-8207-e45fadaa4353",
   "metadata": {},
   "outputs": [],
   "source": [
    "# pip install pylab-sdk"
   ]
  },
  {
   "cell_type": "code",
   "execution_count": null,
   "id": "31c69ad5-ae47-4fcf-a690-4b6f71262e7a",
   "metadata": {},
   "outputs": [],
   "source": [
    "import pylab as pl"
   ]
  },
  {
   "cell_type": "code",
   "execution_count": null,
   "id": "740c82cf-41dc-4495-a72f-2ec066cf342e",
   "metadata": {},
   "outputs": [],
   "source": [
    "#min max values\n",
    "age_min, age_max = x[:,1].min()-1, x[:,1].max()-1\n",
    "es_min, es_max = x[:,2].min()-1, x[:,2 ].max()-1\n",
    "\n",
    "# grid\n",
    "age_grid, es_grid = np.meshgrid(np.arange(age_min, age_max,0.02),np.arange(es_min, es_max , 0.02))\n",
    "\n",
    "# figure size\n",
    "pl.figure(figsize=(15,30))\n",
    "\n",
    "# color map\n",
    "pl.set_cmap(pl.cm.cividis)\n",
    "\n",
    "i=1\n",
    "\n",
    "for d in range(1,10):\n",
    "    clf = SVC(kernel='poly',degree=d)\n",
    "    clf.fit(x_train[:,1:],y_train)\n",
    "    train_preds = clf.predict(x_train[:,1:])\n",
    "    test_preds = clf.predict(x_test[:,1:])\n",
    "    print('iter', d)\n",
    "    print('train acc', accuracy_score(y_train, train_preds))\n",
    "    print('test acc', accuracy_score(y_test, test_preds))\n",
    "\n",
    "    pl.subplot(9,2,i)\n",
    "    z = clf.predict(np.c_[age_grid.ravel(),es_grid.ravel()])\n",
    "\n",
    "    z = z.reshape(age_grid.shape)\n",
    "    pl.set_cmap(pl.cm.cividis)\n",
    "    # pl.contour(age_grid, es_grid, z)\n",
    "    pl.contourf(age_grid, es_grid, z)\n",
    "    pl.axis('tight')\n",
    "\n",
    "    pl.scatter(x_train[:,1],x_train[:,2],c=y_train)\n",
    "    pl.title(f'for iter {d} train')\n",
    "\n",
    "    i+=1\n",
    "    pl.subplot(9,2,i)\n",
    "    pl.set_cmap(pl.cm.cividis)\n",
    "    pl.contour(age_grid, es_grid, z)\n",
    "    pl.axis('tight')\n",
    "\n",
    "    pl.scatter(x_test[:,1],x_test[:,2],c=y_test)\n",
    "    pl.title(f'for iter {d} test')\n",
    "    i+=1\n",
    "pl.show()"
   ]
  },
  {
   "cell_type": "code",
   "execution_count": null,
   "id": "55030876-c9c1-4136-b753-5d19e9f721de",
   "metadata": {},
   "outputs": [],
   "source": [
    "#min max values\n",
    "age_min, age_max = x[:,1].min()-1, x[:,1].max()-1\n",
    "es_min, es_max = x[:,2].min()-1, x[:,2 ].max()-1\n",
    "\n",
    "# grid\n",
    "age_grid, es_grid = np.meshgrid(np.arange(age_min, age_max,0.02),np.arange(es_min, es_max , 0.02))\n",
    "\n",
    "# figure size\n",
    "pl.figure(figsize=(15,30))\n",
    "\n",
    "# color map\n",
    "pl.set_cmap(pl.cm.cividis)\n",
    "\n",
    "i=1\n",
    "\n",
    "for k in ['linear','poly','rbf']:\n",
    "    clf = SVC(kernel=k)\n",
    "    clf.fit(x_train[:,1:],y_train)\n",
    "    train_preds = clf.predict(x_train[:,1:])\n",
    "    test_preds = clf.predict(x_test[:,1:])\n",
    "    print('iter', k)\n",
    "    print('train acc', accuracy_score(y_train, train_preds))\n",
    "    print('test acc', accuracy_score(y_test, test_preds))\n",
    "\n",
    "    pl.subplot(3,2,i)\n",
    "    z = clf.predict(np.c_[age_grid.ravel(),es_grid.ravel()])\n",
    "\n",
    "    z = z.reshape(age_grid.shape)\n",
    "    pl.set_cmap(pl.cm.cividis)\n",
    "    # pl.contour(age_grid, es_grid, z)\n",
    "    pl.contourf(age_grid, es_grid, z)\n",
    "    pl.axis('tight')\n",
    "\n",
    "    pl.scatter(x_train[:,1],x_train[:,2],c=y_train)\n",
    "    pl.title(f'for iter {k} train')\n",
    "\n",
    "    i+=1\n",
    "    pl.subplot(3,2,i)\n",
    "    pl.set_cmap(pl.cm.cividis)\n",
    "    pl.contour(age_grid, es_grid, z)\n",
    "    pl.axis('tight')\n",
    "\n",
    "    pl.scatter(x_test[:,1],x_test[:,2],c=y_test)\n",
    "    pl.title(f'for iter {k} test')\n",
    "    i+=1\n",
    "pl.show()"
   ]
  },
  {
   "cell_type": "code",
   "execution_count": null,
   "id": "72cf49b4-8718-4800-bad9-99cc40ca218b",
   "metadata": {},
   "outputs": [],
   "source": []
  }
 ],
 "metadata": {
  "kernelspec": {
   "display_name": "Python 3 (ipykernel)",
   "language": "python",
   "name": "python3"
  },
  "language_info": {
   "codemirror_mode": {
    "name": "ipython",
    "version": 3
   },
   "file_extension": ".py",
   "mimetype": "text/x-python",
   "name": "python",
   "nbconvert_exporter": "python",
   "pygments_lexer": "ipython3",
   "version": "3.11.7"
  }
 },
 "nbformat": 4,
 "nbformat_minor": 5
}
